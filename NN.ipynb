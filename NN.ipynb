{
  "cells": [
    {
      "cell_type": "code",
      "execution_count": 91,
      "id": "d9feeca1",
      "metadata": {
        "id": "d9feeca1"
      },
      "outputs": [],
      "source": [
        "import numpy as np\n",
        "import pandas as pd\n",
        "from sklearn.model_selection import train_test_split\n",
        "import seaborn as sns\n",
        "import matplotlib.pyplot as plt\n"
      ]
    },
    {
      "cell_type": "code",
      "execution_count": 92,
      "id": "cf01ea76",
      "metadata": {
        "id": "cf01ea76",
        "outputId": "93f3523c-0866-452d-dc09-9dca1d1135f8",
        "colab": {
          "base_uri": "https://localhost:8080/"
        }
      },
      "outputs": [
        {
          "output_type": "stream",
          "name": "stdout",
          "text": [
            "X is\n",
            " [[5.00e+00 2.50e+00 3.65e+03 2.00e+00]\n",
            " [3.00e+00 2.00e+00 1.93e+03 1.00e+00]\n",
            " [4.00e+00 2.50e+00 1.94e+03 1.00e+00]\n",
            " ...\n",
            " [3.00e+00 1.50e+00 1.62e+03 1.00e+00]\n",
            " [4.00e+00 2.00e+00 1.51e+03 1.00e+00]\n",
            " [3.00e+00 1.75e+00 9.60e+02 1.00e+00]]\n",
            "(1764, 4)\n",
            "y is\n",
            " [[[3]]\n",
            "\n",
            " [[1]]\n",
            "\n",
            " [[1]]\n",
            "\n",
            " ...\n",
            "\n",
            " [[1]]\n",
            "\n",
            " [[1]]\n",
            "\n",
            " [[1]]]\n"
          ]
        }
      ],
      "source": [
        "df = pd.read_csv('/content/nn.csv')\n",
        "X = np.array(df.iloc[:,:4])\n",
        "print(\"X is\\n\", X)\n",
        "print(X.shape)\n",
        "\n",
        "y = np.array(df.iloc[:,4:]).T\n",
        "y = np.array([y]).T\n",
        "print(\"y is\\n\", y)\n"
      ]
    },
    {
      "cell_type": "code",
      "execution_count": 93,
      "id": "2988b8c9",
      "metadata": {
        "id": "2988b8c9",
        "outputId": "224333bb-edc4-4279-aabe-93b0f1cb092b",
        "colab": {
          "base_uri": "https://localhost:8080/"
        }
      },
      "outputs": [
        {
          "output_type": "stream",
          "name": "stdout",
          "text": [
            "y after one-hot-encoding is\n",
            " [[0. 0. 1.]\n",
            " [1. 0. 0.]\n",
            " [1. 0. 0.]\n",
            " ...\n",
            " [1. 0. 0.]\n",
            " [1. 0. 0.]\n",
            " [1. 0. 0.]]\n"
          ]
        }
      ],
      "source": [
        "n = len(df)\n",
        "temp = y\n",
        "one_hot_labels = np.zeros((n, 3))\n",
        "for i in range(n):\n",
        "    one_hot_labels[i, int(y[i])-1] = 1\n",
        "y = one_hot_labels\n",
        "print(\"y after one-hot-encoding is\\n\",y)\n"
      ]
    },
    {
      "cell_type": "code",
      "execution_count": 94,
      "id": "79b6721f",
      "metadata": {
        "id": "79b6721f",
        "outputId": "59049d5a-1e14-40aa-d68e-724c523e7fe0",
        "colab": {
          "base_uri": "https://localhost:8080/"
        }
      },
      "outputs": [
        {
          "output_type": "stream",
          "name": "stdout",
          "text": [
            "Shape of train set is (1181, 4)\n",
            "Shape of test set is (583, 4)\n",
            "Shape of train label is (1181, 3)\n",
            "Shape of test label is (583, 3)\n"
          ]
        }
      ],
      "source": [
        "\n",
        "X_train, X_test, y_train, y_test = train_test_split(X, y, test_size=0.33, random_state=4)\n",
        "print(f\"Shape of train set is {X_train.shape}\")\n",
        "print(f\"Shape of test set is {X_test.shape}\")\n",
        "print(f\"Shape of train label is {y_train.shape}\")\n",
        "print(f\"Shape of test label is {y_test.shape}\")"
      ]
    },
    {
      "cell_type": "code",
      "execution_count": 95,
      "id": "602182f4",
      "metadata": {
        "id": "602182f4"
      },
      "outputs": [],
      "source": [
        "from sklearn.preprocessing import StandardScaler\n",
        "sc = StandardScaler()\n",
        "X_train = sc.fit_transform(X_train)\n",
        "X_test = sc.transform(X_test)"
      ]
    },
    {
      "cell_type": "code",
      "execution_count": 96,
      "id": "8deadfa3",
      "metadata": {
        "id": "8deadfa3"
      },
      "outputs": [],
      "source": [
        "from tensorflow import keras\n",
        "NB_CLASSES=3"
      ]
    },
    {
      "cell_type": "code",
      "execution_count": 97,
      "id": "301843ef",
      "metadata": {
        "id": "301843ef"
      },
      "outputs": [],
      "source": [
        "\n",
        "import tensorflow as tf\n",
        "model = tf.keras.models.Sequential()"
      ]
    },
    {
      "cell_type": "code",
      "execution_count": 98,
      "id": "32727ffb",
      "metadata": {
        "id": "32727ffb"
      },
      "outputs": [],
      "source": [
        "\n",
        "model.add(keras.layers.Dense(3,         \n",
        "                        input_shape=(4,), \n",
        "                        name='Hidden-Layer-1', \n",
        "                        activation='relu'))    \n"
      ]
    },
    {
      "cell_type": "code",
      "execution_count": 99,
      "id": "c317291d",
      "metadata": {
        "id": "c317291d"
      },
      "outputs": [],
      "source": [
        "\n",
        "model.add(keras.layers.Dense(NB_CLASSES,\n",
        "                             name='Output-Layer',\n",
        "                             activation='softmax'))"
      ]
    },
    {
      "cell_type": "code",
      "execution_count": 100,
      "id": "f7c7b2ce",
      "metadata": {
        "id": "f7c7b2ce"
      },
      "outputs": [],
      "source": [
        "\n",
        "model.compile(loss='categorical_crossentropy', optimizer='adam', metrics=['accuracy'])"
      ]
    },
    {
      "cell_type": "code",
      "execution_count": 101,
      "id": "8cd060b1",
      "metadata": {
        "id": "8cd060b1",
        "outputId": "19466537-c90f-44d2-e26a-4fbd5a62c319",
        "colab": {
          "base_uri": "https://localhost:8080/"
        }
      },
      "outputs": [
        {
          "output_type": "stream",
          "name": "stdout",
          "text": [
            "Model: \"sequential_5\"\n",
            "_________________________________________________________________\n",
            " Layer (type)                Output Shape              Param #   \n",
            "=================================================================\n",
            " Hidden-Layer-1 (Dense)      (None, 3)                 15        \n",
            "                                                                 \n",
            " Output-Layer (Dense)        (None, 3)                 12        \n",
            "                                                                 \n",
            "=================================================================\n",
            "Total params: 27\n",
            "Trainable params: 27\n",
            "Non-trainable params: 0\n",
            "_________________________________________________________________\n"
          ]
        }
      ],
      "source": [
        "\n",
        "model.summary()"
      ]
    },
    {
      "cell_type": "code",
      "execution_count": 102,
      "id": "aa0dbb29",
      "metadata": {
        "id": "aa0dbb29",
        "outputId": "f739c7ef-bbdc-417f-f00b-a193137bfcea",
        "colab": {
          "base_uri": "https://localhost:8080/"
        }
      },
      "outputs": [
        {
          "output_type": "stream",
          "name": "stdout",
          "text": [
            "Epoch 1/5\n",
            "37/37 [==============================] - 1s 2ms/step - loss: 1.1484 - accuracy: 0.7976\n",
            "Epoch 2/5\n",
            "37/37 [==============================] - 0s 2ms/step - loss: 1.0481 - accuracy: 0.8036\n",
            "Epoch 3/5\n",
            "37/37 [==============================] - 0s 2ms/step - loss: 0.9612 - accuracy: 0.8036\n",
            "Epoch 4/5\n",
            "37/37 [==============================] - 0s 2ms/step - loss: 0.8848 - accuracy: 0.8036\n",
            "Epoch 5/5\n",
            "37/37 [==============================] - 0s 2ms/step - loss: 0.8204 - accuracy: 0.8036\n"
          ]
        }
      ],
      "source": [
        " \n",
        "history=model.fit(X_train,\n",
        "          y_train,\n",
        "          epochs=5)"
      ]
    },
    {
      "cell_type": "code",
      "execution_count": 103,
      "id": "3c74149c",
      "metadata": {
        "id": "3c74149c",
        "outputId": "7115a74e-20da-4b56-9098-b355cce2dba5",
        "colab": {
          "base_uri": "https://localhost:8080/",
          "height": 519
        }
      },
      "outputs": [
        {
          "output_type": "stream",
          "name": "stdout",
          "text": [
            "\n",
            "Accuracy during Training :\n",
            "------------------------------------\n"
          ]
        },
        {
          "output_type": "display_data",
          "data": {
            "text/plain": [
              "<Figure size 800x500 with 1 Axes>"
            ],
            "image/png": "[encoded data removed]"
          },
          "metadata": {}
        }
      ],
      "source": [
        "print(\"\\nAccuracy during Training :\\n------------------------------------\")\n",
        "import matplotlib.pyplot as plt\n",
        "\n",
        "pd.DataFrame(history.history)[\"accuracy\"].plot(figsize=(8, 5))\n",
        "plt.title(\"Accuracy improvements with Epoch\")\n",
        "plt.show()"
      ]
    },
    {
      "cell_type": "code",
      "execution_count": 104,
      "id": "5f0f1317",
      "metadata": {
        "id": "5f0f1317",
        "outputId": "3664f39b-12b0-419a-9289-6b0820d125cc",
        "colab": {
          "base_uri": "https://localhost:8080/"
        }
      },
      "outputs": [
        {
          "output_type": "stream",
          "name": "stdout",
          "text": [
            "\n",
            "Evaluation against Test Dataset :\n",
            "------------------------------------\n",
            "19/19 [==============================] - 0s 2ms/step - loss: 0.7755 - accuracy: 0.8165\n"
          ]
        },
        {
          "output_type": "execute_result",
          "data": {
            "text/plain": [
              "[0.7755314707756042, 0.8164665699005127]"
            ]
          },
          "metadata": {},
          "execution_count": 104
        }
      ],
      "source": [
        "\n",
        "print(\"\\nEvaluation against Test Dataset :\\n\")\n",
        "model.evaluate(X_test,y_test)"
      ]
    },
    {
      "cell_type": "code",
      "execution_count": 105,
      "id": "6a85c416",
      "metadata": {
        "id": "6a85c416",
        "colab": {
          "base_uri": "https://localhost:8080/",
          "height": 489
        },
        "outputId": "c7660cd6-9409-4503-b1e2-a53583f95456"
      },
      "outputs": [
        {
          "output_type": "stream",
          "name": "stdout",
          "text": [
            "19/19 [==============================] - 0s 1ms/step\n"
          ]
        },
        {
          "output_type": "display_data",
          "data": {
            "text/plain": [
              "<Figure size 640x480 with 2 Axes>"
            ],
            "image/png": "[encoded data removed]"
          },
          "metadata": {}
        }
      ],
      "source": [
        "from sklearn.metrics import confusion_matrix\n",
        "y_pred = model.predict(X_test)\n",
        "y_pred = np.argmax(y_pred, axis=1)\n",
        "y_test = np.argmax(y_test, axis=1)\n",
        "cm = confusion_matrix(y_test, y_pred)\n",
        "sns.heatmap(cm, annot=True, cmap='Blues', fmt='g', xticklabels=['1', '2', '3'], yticklabels=['1', '2', '3'])\n",
        "plt.xlabel('Predicted label')\n",
        "plt.ylabel('True label')\n",
        "plt.title('Confusion matrix')\n",
        "plt.show()\n"
      ]
    }
  ],
  "metadata": {
    "kernelspec": {
      "display_name": "Python 3 (ipykernel)",
      "language": "python",
      "name": "python3"
    },
    "language_info": {
      "codemirror_mode": {
        "name": "ipython",
        "version": 3
      },
      "file_extension": ".py",
      "mimetype": "text/x-python",
      "name": "python",
      "nbconvert_exporter": "python",
      "pygments_lexer": "ipython3",
      "version": "3.8.12"
    },
    "colab": {
      "provenance": []
    }
  },
  "nbformat": 4,
  "nbformat_minor": 5
}