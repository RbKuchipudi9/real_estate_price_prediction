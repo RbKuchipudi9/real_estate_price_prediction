{
 "cells": [
  {
   "cell_type": "code",
   "execution_count": null,
   "id": "da3d4252",
   "metadata": {},
   "outputs": [],
   "source": [
    "import pandas as pd\n",
    "import numpy as np"
   ]
  },
  {
   "cell_type": "code",
   "execution_count": null,
   "id": "1009afcd",
   "metadata": {},
   "outputs": [],
   "source": [
    "from sklearn.decomposition import PCA\n",
    "import matplotlib.pyplot as plt\n",
    "from IPython.display import clear_output\n",
    "from sklearn.metrics import silhouette_score\n",
    "from sklearn.cluster import KMeans\n",
    "from pylab import rcParams"
   ]
  },
  {
   "cell_type": "code",
   "execution_count": null,
   "id": "581148db",
   "metadata": {},
   "outputs": [],
   "source": [
    "data = pd.read_csv(\"clust.csv\")\n",
    "data.head(15)"
   ]
  },
  {
   "cell_type": "code",
   "execution_count": null,
   "id": "734f3375",
   "metadata": {},
   "outputs": [],
   "source": [
    "data = ((data - data.min()) / (data.max() - data.min())) * 9 + 1"
   ]
  },
  {
   "cell_type": "code",
   "execution_count": null,
   "id": "a01a6037",
   "metadata": {},
   "outputs": [],
   "source": [
    "data.describe()"
   ]
  },
  {
   "cell_type": "code",
   "execution_count": null,
   "id": "bd25d992",
   "metadata": {},
   "outputs": [],
   "source": [
    "data.head()"
   ]
  },
  {
   "cell_type": "code",
   "execution_count": null,
   "id": "33ce9913",
   "metadata": {},
   "outputs": [],
   "source": [
    "def random_centroids(data, k):\n",
    "    centroids = []\n",
    "    for i in range(k):\n",
    "        centroid = data.apply(lambda x: float(x.sample()))\n",
    "        centroids.append(centroid)\n",
    "    return pd.concat(centroids, axis=1)\n",
    "centroids = random_centroids(data, 2)\n",
    "centroids\n"
   ]
  },
  {
   "cell_type": "code",
   "execution_count": null,
   "id": "6afdd067",
   "metadata": {},
   "outputs": [],
   "source": [
    "def get_labels(data, centroids):\n",
    "    distances = centroids.apply(lambda x: np.sqrt(((data - x) ** 2).sum(axis=1)))\n",
    "    return distances.idxmin(axis=1)"
   ]
  },
  {
   "cell_type": "code",
   "execution_count": null,
   "id": "01cac361",
   "metadata": {},
   "outputs": [],
   "source": [
    "labels = get_labels(data, centroids)\n",
    "labels.value_counts()"
   ]
  },
  {
   "cell_type": "code",
   "execution_count": null,
   "id": "fdeede05",
   "metadata": {},
   "outputs": [],
   "source": [
    "def new_centroids(data, labels, k):\n",
    "    centroids = data.groupby(labels).apply(lambda x: np.exp(np.log(x).mean())).T\n",
    "    return centroids"
   ]
  },
  {
   "cell_type": "code",
   "execution_count": null,
   "id": "5779d9bd",
   "metadata": {},
   "outputs": [],
   "source": [
    "def plot_clusters(data, labels, centroids, iteration):\n",
    "    pca = PCA(n_components=2)\n",
    "    data_2d = pca.fit_transform(data)\n",
    "    centroids_2d = pca.transform(centroids.T)\n",
    "    clear_output(wait=True)\n",
    "    plt.title(f'Iteration {iteration}')\n",
    "    plt.scatter(x=data_2d[:,0], y=data_2d[:,1], c=labels)\n",
    "    plt.scatter(x=centroids_2d[:,0], y=centroids_2d[:,1],color='red',marker='*',label='centroid')\n",
    "    plt.show()\n"
   ]
  },
  {
   "cell_type": "code",
   "execution_count": null,
   "id": "3eff6eb7",
   "metadata": {},
   "outputs": [],
   "source": [
    "max_iterations = 100\n",
    "centroid_count = 2\n",
    "\n",
    "centroids = random_centroids(data, centroid_count)\n",
    "old_centroids = pd.DataFrame()\n",
    "iteration = 1\n",
    "\n",
    "while iteration < max_iterations and not centroids.equals(old_centroids):\n",
    "    old_centroids = centroids\n",
    "    \n",
    "    labels = get_labels(data, centroids)\n",
    "    centroids = new_centroids(data, labels, centroid_count)\n",
    "    plot_clusters(data, labels, centroids, iteration)\n",
    "    iteration += 1\n"
   ]
  },
  {
   "cell_type": "code",
   "execution_count": null,
   "id": "8088b4ce",
   "metadata": {},
   "outputs": [],
   "source": [
    "kmeans_per_k = [KMeans(n_clusters=k, random_state=42).fit(data) for k in range(1, 10)]\n",
    "\n",
    "predicted_labels = [model.predict(data) for model in kmeans_per_k]\n",
    "silhouette_scores = [silhouette_score(data, labels) for labels in predicted_labels[1:]]"
   ]
  },
  {
   "cell_type": "code",
   "execution_count": null,
   "id": "ff6c8dd7",
   "metadata": {},
   "outputs": [],
   "source": [
    "rcParams['figure.figsize'] = 16, 5"
   ]
  },
  {
   "cell_type": "code",
   "execution_count": null,
   "id": "67f3095c",
   "metadata": {},
   "outputs": [],
   "source": [
    "plt.plot(range (2, 10), silhouette_scores,\"bo-\", color=\"blue\", linewidth=3, markersize=8, label=\"Silhoutee curve\")\n",
    "plt.xlabel(\"$k$\", fontsize=14, family= 'Arial')\n",
    "plt.ylabel(\"Silhouette score\", fontsize=14, family=\"Arial\")\n",
    "plt.grid(which='major', color='#cccccc', linestyle=\"--\")\n",
    "plt.title('Silhoutte curve for predict optimal number of clusters', family='Arial', fontsize=14)\n",
    "k =np.argmax(silhouette_scores) + 2\n",
    "\n",
    "plt.axvline(x=k, linestyle='--',c=\"green\", linewidth=3,label='Optimal number of clusters ({})'.format(k))\n",
    "plt.scatter (k, silhouette_scores[k-2], c='red', s=400) \n",
    "plt.legend(shadow=True)\n",
    "plt.show()"
   ]
  },
  {
   "cell_type": "code",
   "execution_count": null,
   "id": "044416e1",
   "metadata": {},
   "outputs": [],
   "source": [
    "sse = []\n",
    "for k in range(1, 11):\n",
    "    kmeans = KMeans(n_clusters=k)\n",
    "    kmeans.fit(data)\n",
    "    sse.append(kmeans.inertia_)\n",
    "\n",
    "# Plot the SSE as a function of k\n",
    "plt.plot(range(1, 11), sse)\n",
    "plt.title('Elbow Method')\n",
    "plt.xlabel('Number of Clusters')\n",
    "plt.ylabel('SSE')\n",
    "plt.show()\n"
   ]
  }
 ],
 "metadata": {
  "kernelspec": {
   "display_name": "Python 3 (ipykernel)",
   "language": "python",
   "name": "python3"
  },
  "language_info": {
   "codemirror_mode": {
    "name": "ipython",
    "version": 3
   },
   "file_extension": ".py",
   "mimetype": "text/x-python",
   "name": "python",
   "nbconvert_exporter": "python",
   "pygments_lexer": "ipython3",
   "version": "3.9.13"
  }
 },
 "nbformat": 4,
 "nbformat_minor": 5
}
